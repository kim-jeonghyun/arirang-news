{
 "cells": [
  {
   "cell_type": "code",
   "execution_count": 1,
   "metadata": {},
   "outputs": [],
   "source": [
    "import requests\n",
    "from bs4 import BeautifulSoup\n",
    "from pandas import DataFrame\n",
    "import pandas as pd"
   ]
  },
  {
   "cell_type": "code",
   "execution_count": 2,
   "metadata": {},
   "outputs": [],
   "source": [
    "list_ = []"
   ]
  },
  {
   "cell_type": "code",
   "execution_count": 22,
   "metadata": {},
   "outputs": [],
   "source": [
    "def arirang_news_list(num1, num2):\n",
    "    for i in range(num1,num2+1):\n",
    "        try:\n",
    "            print(i)\n",
    "            #상세 뉴스 페이지\n",
    "            url = f\"https://www.arirang.com/News/News_View.asp?nseq={i}\"\n",
    "            resp = requests.get(url)\n",
    "            html = resp.text\n",
    "            soup = BeautifulSoup(html)\n",
    "            #뉴스 타이틀\n",
    "            title = soup.title.string\n",
    "            #뉴스 기사\n",
    "            text = soup.find(id=\"newsText\").text.split('Reporter : ')[0]\n",
    "            reporter = soup.find(id=\"newsText\").text.split('Reporter : ')[1]\n",
    "\n",
    "        except:\n",
    "            print(\"error\")\n",
    "            pass\n",
    "\n",
    "        finally:\n",
    "\n",
    "            # 딕셔너리에 넣기\n",
    "            single_dict = {} \n",
    "            single_dict['nseq'] = i             \n",
    "            single_dict['url'] = url\n",
    "            single_dict['title'] = title \n",
    "            single_dict['text'] = text\n",
    "            single_dict['reporter'] = reporter\n",
    "            # 전체 리스트에 넣기\n",
    "            #print(single_dict)\n",
    "            list_.append(single_dict)"
   ]
  },
  {
   "cell_type": "code",
   "execution_count": 23,
   "metadata": {},
   "outputs": [
    {
     "name": "stdout",
     "output_type": "stream",
     "text": [
      "274970\n",
      "274971\n",
      "274972\n",
      "274973\n",
      "274974\n",
      "274975\n",
      "274976\n",
      "274977\n"
     ]
    }
   ],
   "source": [
    "arirang_news_list(274970,274977)"
   ]
  },
  {
   "cell_type": "code",
   "execution_count": 24,
   "metadata": {},
   "outputs": [
    {
     "data": {
      "text/html": [
       "<div>\n",
       "<style scoped>\n",
       "    .dataframe tbody tr th:only-of-type {\n",
       "        vertical-align: middle;\n",
       "    }\n",
       "\n",
       "    .dataframe tbody tr th {\n",
       "        vertical-align: top;\n",
       "    }\n",
       "\n",
       "    .dataframe thead th {\n",
       "        text-align: right;\n",
       "    }\n",
       "</style>\n",
       "<table border=\"1\" class=\"dataframe\">\n",
       "  <thead>\n",
       "    <tr style=\"text-align: right;\">\n",
       "      <th></th>\n",
       "      <th>nseq</th>\n",
       "      <th>url</th>\n",
       "      <th>title</th>\n",
       "      <th>text</th>\n",
       "      <th>reporter</th>\n",
       "    </tr>\n",
       "  </thead>\n",
       "  <tbody>\n",
       "    <tr>\n",
       "      <th>0</th>\n",
       "      <td>274970</td>\n",
       "      <td>https://www.arirang.com/News/News_View.asp?nse...</td>\n",
       "      <td>0405 COVID-19 government briefing slugsNews ...</td>\n",
       "      <td>\\r\\n\\t\\t\\t\\t : GOV'T BRIEFING ON COVID-19\\n\\n ...</td>\n",
       "      <td>\\n</td>\n",
       "    </tr>\n",
       "    <tr>\n",
       "      <th>1</th>\n",
       "      <td>274971</td>\n",
       "      <td>https://www.arirang.com/News/News_View.asp?nse...</td>\n",
       "      <td>Intro - The latest vaccine situation in Kore...</td>\n",
       "      <td>\\n\\nThe world is struggling to\\naddress a shor...</td>\n",
       "      <td>leejun@arirang.co.kr\\n</td>\n",
       "    </tr>\n",
       "    <tr>\n",
       "      <th>2</th>\n",
       "      <td>274972</td>\n",
       "      <td>https://www.arirang.com/News/News_View.asp?nse...</td>\n",
       "      <td>STUDIO SESSION VIA SKYPE ONENews | arirang TV</td>\n",
       "      <td>\\r\\n\\t\\t\\t\\t  EXPORT RESTRICTIONS on COVID-19 ...</td>\n",
       "      <td>sunnymin@arirang.com\\n</td>\n",
       "    </tr>\n",
       "    <tr>\n",
       "      <th>3</th>\n",
       "      <td>274973</td>\n",
       "      <td>https://www.arirang.com/News/News_View.asp?nse...</td>\n",
       "      <td>SKYPE, RUSSIANews | arirang TV</td>\n",
       "      <td>\\r\\n\\t\\t\\t\\t  Also in related news.\\nAMID GLOB...</td>\n",
       "      <td>sunnymin@arirang.com\\n</td>\n",
       "    </tr>\n",
       "    <tr>\n",
       "      <th>4</th>\n",
       "      <td>274974</td>\n",
       "      <td>https://www.arirang.com/News/News_View.asp?nse...</td>\n",
       "      <td>STUDIO SESSION VIA SKYPE TWONews | arirang TV</td>\n",
       "      <td>\\r\\n\\t\\t\\t\\t  8) Doctor Tan what are your thou...</td>\n",
       "      <td>sunnymin@arirang.com\\n</td>\n",
       "    </tr>\n",
       "    <tr>\n",
       "      <th>5</th>\n",
       "      <td>274975</td>\n",
       "      <td>https://www.arirang.com/News/News_View.asp?nse...</td>\n",
       "      <td>CLOSINGNews | arirang TV</td>\n",
       "      <td>\\r\\n\\t\\t\\t\\t  Authorities here are WARNING abo...</td>\n",
       "      <td>sunnymin@arirang.com\\n</td>\n",
       "    </tr>\n",
       "    <tr>\n",
       "      <th>6</th>\n",
       "      <td>274976</td>\n",
       "      <td>https://www.arirang.com/News/News_View.asp?nse...</td>\n",
       "      <td>OpeningNews | arirang TV</td>\n",
       "      <td>\\r\\n\\t\\t\\t\\t  Hello,.. thanks for joining us f...</td>\n",
       "      <td>markbroome@arirang.co.kr\\n</td>\n",
       "    </tr>\n",
       "    <tr>\n",
       "      <th>7</th>\n",
       "      <td>274977</td>\n",
       "      <td>https://www.arirang.com/News/News_View.asp?nse...</td>\n",
       "      <td>Health authorities grapple with worrisome four...</td>\n",
       "      <td>\\r\\n\\t\\t\\t\\tSouth Korea's disease control and ...</td>\n",
       "      <td>winning@arirang.com\\n</td>\n",
       "    </tr>\n",
       "  </tbody>\n",
       "</table>\n",
       "</div>"
      ],
      "text/plain": [
       "     nseq                                                url  \\\n",
       "0  274970  https://www.arirang.com/News/News_View.asp?nse...   \n",
       "1  274971  https://www.arirang.com/News/News_View.asp?nse...   \n",
       "2  274972  https://www.arirang.com/News/News_View.asp?nse...   \n",
       "3  274973  https://www.arirang.com/News/News_View.asp?nse...   \n",
       "4  274974  https://www.arirang.com/News/News_View.asp?nse...   \n",
       "5  274975  https://www.arirang.com/News/News_View.asp?nse...   \n",
       "6  274976  https://www.arirang.com/News/News_View.asp?nse...   \n",
       "7  274977  https://www.arirang.com/News/News_View.asp?nse...   \n",
       "\n",
       "                                               title  \\\n",
       "0    0405 COVID-19 government briefing slugsNews ...   \n",
       "1    Intro - The latest vaccine situation in Kore...   \n",
       "2      STUDIO SESSION VIA SKYPE ONENews | arirang TV   \n",
       "3                     SKYPE, RUSSIANews | arirang TV   \n",
       "4      STUDIO SESSION VIA SKYPE TWONews | arirang TV   \n",
       "5                           CLOSINGNews | arirang TV   \n",
       "6                           OpeningNews | arirang TV   \n",
       "7  Health authorities grapple with worrisome four...   \n",
       "\n",
       "                                                text  \\\n",
       "0  \\r\\n\\t\\t\\t\\t : GOV'T BRIEFING ON COVID-19\\n\\n ...   \n",
       "1  \\n\\nThe world is struggling to\\naddress a shor...   \n",
       "2  \\r\\n\\t\\t\\t\\t  EXPORT RESTRICTIONS on COVID-19 ...   \n",
       "3  \\r\\n\\t\\t\\t\\t  Also in related news.\\nAMID GLOB...   \n",
       "4  \\r\\n\\t\\t\\t\\t  8) Doctor Tan what are your thou...   \n",
       "5  \\r\\n\\t\\t\\t\\t  Authorities here are WARNING abo...   \n",
       "6  \\r\\n\\t\\t\\t\\t  Hello,.. thanks for joining us f...   \n",
       "7  \\r\\n\\t\\t\\t\\tSouth Korea's disease control and ...   \n",
       "\n",
       "                     reporter  \n",
       "0                          \\n  \n",
       "1      leejun@arirang.co.kr\\n  \n",
       "2      sunnymin@arirang.com\\n  \n",
       "3      sunnymin@arirang.com\\n  \n",
       "4      sunnymin@arirang.com\\n  \n",
       "5      sunnymin@arirang.com\\n  \n",
       "6  markbroome@arirang.co.kr\\n  \n",
       "7       winning@arirang.com\\n  "
      ]
     },
     "execution_count": 24,
     "metadata": {},
     "output_type": "execute_result"
    }
   ],
   "source": [
    "df = DataFrame(list_)\n",
    "df"
   ]
  },
  {
   "cell_type": "code",
   "execution_count": 10,
   "metadata": {},
   "outputs": [],
   "source": [
    "df.to_csv(\"num274970-274977.csv\")"
   ]
  },
  {
   "cell_type": "code",
   "execution_count": null,
   "metadata": {},
   "outputs": [],
   "source": []
  },
  {
   "cell_type": "code",
   "execution_count": null,
   "metadata": {},
   "outputs": [],
   "source": []
  }
 ],
 "metadata": {
  "kernelspec": {
   "display_name": "Python 3",
   "language": "python",
   "name": "python3"
  },
  "language_info": {
   "codemirror_mode": {
    "name": "ipython",
    "version": 3
   },
   "file_extension": ".py",
   "mimetype": "text/x-python",
   "name": "python",
   "nbconvert_exporter": "python",
   "pygments_lexer": "ipython3",
   "version": "3.8.5"
  }
 },
 "nbformat": 4,
 "nbformat_minor": 4
}
