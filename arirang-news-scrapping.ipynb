{
 "cells": [
  {
   "cell_type": "code",
   "execution_count": 14,
   "metadata": {},
   "outputs": [],
   "source": [
    "import requests\n",
    "from bs4 import BeautifulSoup\n",
    "import pandas as pd"
   ]
  },
  {
   "cell_type": "code",
   "execution_count": 16,
   "metadata": {},
   "outputs": [],
   "source": [
    "def arirang_news_list(num1, num2):\n",
    "    news_list = []\n",
    "    for i in range(num1,num2+1):\n",
    "        try:\n",
    "            print(i)\n",
    "            #상세 뉴스 페이지\n",
    "            url = f\"https://www.arirang.com/News/News_View.asp?nseq={i}\"\n",
    "            resp = requests.get(url)\n",
    "            html = resp.text\n",
    "            soup = BeautifulSoup(html)\n",
    "            #뉴스 타이틀\n",
    "            title = soup.title.string\n",
    "            #뉴스 기사\n",
    "            text = soup.find(id=\"newsText\").text.split('Reporter : ')[0]\n",
    "            reporter = soup.find(id=\"newsText\").text.split('Reporter : ')[1]\n",
    "\n",
    "        except:\n",
    "            print(\"error\")\n",
    "            pass\n",
    "\n",
    "        finally:\n",
    "\n",
    "            # 기사 하나 딕셔너리에 넣기\n",
    "            single_dict = {} \n",
    "            single_dict['nseq'] = i             \n",
    "            single_dict['url'] = url\n",
    "            single_dict['title'] = title \n",
    "            single_dict['text'] = text\n",
    "            single_dict['reporter'] = reporter\n",
    "\n",
    "            # 기사 딕셔너리를 전체 리스트에 넣기\n",
    "            news_list.append(single_dict)\n",
    "    print(len(news_list))        \n",
    "\n",
    "    #df 만들고 csv 파일로 저장\n",
    "    df = pd.DataFrame(news_list)\n",
    "    df.to_csv(f\"{num1}-{num2}.csv\")"
   ]
  },
  {
   "cell_type": "code",
   "execution_count": 17,
   "metadata": {},
   "outputs": [
    {
     "name": "stdout",
     "output_type": "stream",
     "text": [
      "274965\n",
      "274966\n",
      "274967\n",
      "274968\n",
      "274969\n",
      "274970\n",
      "274971\n",
      "274972\n",
      "274973\n",
      "274974\n",
      "274975\n",
      "274976\n",
      "274977\n",
      "13\n"
     ]
    }
   ],
   "source": [
    "arirang_news_list(274965,274977)"
   ]
  },
  {
   "cell_type": "code",
   "execution_count": null,
   "metadata": {},
   "outputs": [],
   "source": []
  },
  {
   "cell_type": "code",
   "execution_count": null,
   "metadata": {},
   "outputs": [],
   "source": []
  }
 ],
 "metadata": {
  "kernelspec": {
   "display_name": "Python 3",
   "language": "python",
   "name": "python3"
  },
  "language_info": {
   "codemirror_mode": {
    "name": "ipython",
    "version": 3
   },
   "file_extension": ".py",
   "mimetype": "text/x-python",
   "name": "python",
   "nbconvert_exporter": "python",
   "pygments_lexer": "ipython3",
   "version": "3.8.5"
  }
 },
 "nbformat": 4,
 "nbformat_minor": 4
}
